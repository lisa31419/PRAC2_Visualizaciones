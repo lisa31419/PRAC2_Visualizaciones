{
 "cells": [
  {
   "cell_type": "code",
   "execution_count": 14,
   "id": "65770bb2",
   "metadata": {},
   "outputs": [
    {
     "name": "stdout",
     "output_type": "stream",
     "text": [
      "Requirement already satisfied: gender-guesser in c:\\users\\isa31\\anaconda3\\lib\\site-packages (0.4.0)\n",
      "Note: you may need to restart the kernel to use updated packages.\n"
     ]
    }
   ],
   "source": [
    "pip install gender-guesser"
   ]
  },
  {
   "cell_type": "code",
   "execution_count": 15,
   "id": "3dffd136",
   "metadata": {},
   "outputs": [],
   "source": [
    "import pandas as pd\n",
    "import numpy as np\n",
    "import re\n",
    "import gender_guesser.detector as gender"
   ]
  },
  {
   "cell_type": "code",
   "execution_count": 2,
   "id": "22312691",
   "metadata": {},
   "outputs": [],
   "source": [
    "df = pd.read_csv(\"final_spotify_wrapped_by_genres.csv\", index_col=False)"
   ]
  },
  {
   "cell_type": "code",
   "execution_count": 3,
   "id": "0c8a3c85",
   "metadata": {},
   "outputs": [],
   "source": [
    "# Dataset de Florish para renombrar los paises, ex: ES a Spain\n",
    "regions = pd.read_csv('regions.csv', index_col=False)\n",
    "regions2 = regions[['Country name', 'WB_A2']]\n",
    "regions2 = regions2.rename(columns={'WB_A2':'country'}) "
   ]
  },
  {
   "cell_type": "markdown",
   "id": "2cb8a7a2",
   "metadata": {},
   "source": [
    "# Crear dataset para el mapa"
   ]
  },
  {
   "cell_type": "code",
   "execution_count": 4,
   "id": "15904a66",
   "metadata": {},
   "outputs": [],
   "source": [
    "mapa = df[['name','artists','daily_rank','country']]\n",
    "canciones_por_pais = mapa.groupby('country')['name'].nunique().reset_index()\n",
    "canciones_por_pais.rename(columns={'name': 'Total Unique Songs in 46 days'}, inplace=True)\n",
    "\n",
    "mapa = pd.merge(mapa, canciones_por_pais, on='country', how='left')\n",
    "mapa = pd.merge(mapa, regions2, on = 'country', how='left')\n",
    "mapa.drop('country', axis=1, inplace=True)"
   ]
  },
  {
   "cell_type": "code",
   "execution_count": 5,
   "id": "1788eee1",
   "metadata": {},
   "outputs": [],
   "source": [
    "mapa2 = mapa[['Country name', 'Total Unique Songs in 46 days']].drop_duplicates(subset='Country name', keep='last').reset_index(drop=True)\n",
    "mapa3 = mapa2.reset_index()"
   ]
  },
  {
   "cell_type": "code",
   "execution_count": 148,
   "id": "a3e89148",
   "metadata": {},
   "outputs": [],
   "source": [
    "mapa3.to_csv('mapa.csv', index=False)"
   ]
  },
  {
   "cell_type": "markdown",
   "id": "8be34ade",
   "metadata": {},
   "source": [
    "# Crear dataset con características medias"
   ]
  },
  {
   "cell_type": "code",
   "execution_count": 8,
   "id": "f67d1763",
   "metadata": {},
   "outputs": [],
   "source": [
    "medias = df[['daily_rank', 'snapshot_date', 'valence','duration_ms', 'danceability',\n",
    "             'energy','loudness', 'speechiness', 'acousticness', 'instrumentalness']]\n",
    "filtered_medias = medias[medias['daily_rank'].isin([1, 2, 3, 4, 5])].drop('daily_rank', axis=1)\n",
    "nuevo_dataset = filtered_medias.groupby('snapshot_date').mean().reset_index()"
   ]
  },
  {
   "cell_type": "code",
   "execution_count": 9,
   "id": "6d3ae1a1",
   "metadata": {},
   "outputs": [],
   "source": [
    "columnas_a_convertir = ['energy', 'speechiness', 'instrumentalness', 'valence', 'danceability', 'acousticness']\n",
    "nuevo_dataset[columnas_a_convertir] = nuevo_dataset[columnas_a_convertir] * 100"
   ]
  },
  {
   "cell_type": "code",
   "execution_count": 10,
   "id": "27df1bab",
   "metadata": {},
   "outputs": [
    {
     "data": {
      "text/html": [
       "<div>\n",
       "<style scoped>\n",
       "    .dataframe tbody tr th:only-of-type {\n",
       "        vertical-align: middle;\n",
       "    }\n",
       "\n",
       "    .dataframe tbody tr th {\n",
       "        vertical-align: top;\n",
       "    }\n",
       "\n",
       "    .dataframe thead th {\n",
       "        text-align: right;\n",
       "    }\n",
       "</style>\n",
       "<table border=\"1\" class=\"dataframe\">\n",
       "  <thead>\n",
       "    <tr style=\"text-align: right;\">\n",
       "      <th></th>\n",
       "      <th>snapshot_date</th>\n",
       "      <th>valence</th>\n",
       "      <th>duration_ms</th>\n",
       "      <th>danceability</th>\n",
       "      <th>energy</th>\n",
       "      <th>loudness</th>\n",
       "      <th>speechiness</th>\n",
       "      <th>acousticness</th>\n",
       "      <th>instrumentalness</th>\n",
       "      <th>loudness_category</th>\n",
       "    </tr>\n",
       "  </thead>\n",
       "  <tbody>\n",
       "    <tr>\n",
       "      <th>0</th>\n",
       "      <td>2023-10-18</td>\n",
       "      <td>53.272603</td>\n",
       "      <td>194078.967123</td>\n",
       "      <td>72.536438</td>\n",
       "      <td>64.661918</td>\n",
       "      <td>-6.579953</td>\n",
       "      <td>12.415973</td>\n",
       "      <td>31.223293</td>\n",
       "      <td>1.464216</td>\n",
       "      <td>Moderado</td>\n",
       "    </tr>\n",
       "    <tr>\n",
       "      <th>1</th>\n",
       "      <td>2023-10-19</td>\n",
       "      <td>53.272603</td>\n",
       "      <td>194078.967123</td>\n",
       "      <td>72.536438</td>\n",
       "      <td>64.661918</td>\n",
       "      <td>-6.579953</td>\n",
       "      <td>12.415973</td>\n",
       "      <td>31.223293</td>\n",
       "      <td>1.464216</td>\n",
       "      <td>Moderado</td>\n",
       "    </tr>\n",
       "    <tr>\n",
       "      <th>2</th>\n",
       "      <td>2023-10-20</td>\n",
       "      <td>54.313151</td>\n",
       "      <td>192131.975342</td>\n",
       "      <td>72.975616</td>\n",
       "      <td>64.419178</td>\n",
       "      <td>-6.607803</td>\n",
       "      <td>12.291863</td>\n",
       "      <td>30.964690</td>\n",
       "      <td>1.699442</td>\n",
       "      <td>Moderado</td>\n",
       "    </tr>\n",
       "    <tr>\n",
       "      <th>3</th>\n",
       "      <td>2023-10-21</td>\n",
       "      <td>55.124384</td>\n",
       "      <td>190706.186301</td>\n",
       "      <td>73.062740</td>\n",
       "      <td>64.882740</td>\n",
       "      <td>-6.492162</td>\n",
       "      <td>12.150521</td>\n",
       "      <td>31.082402</td>\n",
       "      <td>1.632241</td>\n",
       "      <td>Moderado</td>\n",
       "    </tr>\n",
       "    <tr>\n",
       "      <th>4</th>\n",
       "      <td>2023-10-22</td>\n",
       "      <td>56.136438</td>\n",
       "      <td>189093.106849</td>\n",
       "      <td>73.372603</td>\n",
       "      <td>65.658904</td>\n",
       "      <td>-6.384849</td>\n",
       "      <td>12.114055</td>\n",
       "      <td>29.479186</td>\n",
       "      <td>1.068133</td>\n",
       "      <td>Moderado</td>\n",
       "    </tr>\n",
       "  </tbody>\n",
       "</table>\n",
       "</div>"
      ],
      "text/plain": [
       "  snapshot_date    valence    duration_ms  danceability     energy  loudness  \\\n",
       "0    2023-10-18  53.272603  194078.967123     72.536438  64.661918 -6.579953   \n",
       "1    2023-10-19  53.272603  194078.967123     72.536438  64.661918 -6.579953   \n",
       "2    2023-10-20  54.313151  192131.975342     72.975616  64.419178 -6.607803   \n",
       "3    2023-10-21  55.124384  190706.186301     73.062740  64.882740 -6.492162   \n",
       "4    2023-10-22  56.136438  189093.106849     73.372603  65.658904 -6.384849   \n",
       "\n",
       "   speechiness  acousticness  instrumentalness loudness_category  \n",
       "0    12.415973     31.223293          1.464216          Moderado  \n",
       "1    12.415973     31.223293          1.464216          Moderado  \n",
       "2    12.291863     30.964690          1.699442          Moderado  \n",
       "3    12.150521     31.082402          1.632241          Moderado  \n",
       "4    12.114055     29.479186          1.068133          Moderado  "
      ]
     },
     "execution_count": 10,
     "metadata": {},
     "output_type": "execute_result"
    }
   ],
   "source": [
    "# Determinar los valores mínimo y máximo de 'loudness'\n",
    "min_loudness = nuevo_dataset['loudness'].min()\n",
    "max_loudness = nuevo_dataset['loudness'].max()\n",
    "\n",
    "# Definir los límites para las categorías\n",
    "categorias = {\n",
    "    'Muy Bajo': (min_loudness, -20),\n",
    "    'Bajo': (-20, -10),\n",
    "    'Moderado': (-10, -5),\n",
    "    'Alto': (-5, 0),\n",
    "    'Muy Alto': (0, max_loudness)\n",
    "}\n",
    "\n",
    "# Función para asignar una categoría basada en el valor de 'loudness'\n",
    "def asignar_categoria(valor):\n",
    "    for categoria, (min_valor, max_valor) in categorias.items():\n",
    "        if min_valor <= valor <= max_valor:\n",
    "            return categoria\n",
    "    return 'Desconocido'\n",
    "\n",
    "# Crear una nueva columna 'loudness_category' con las categorías asignadas\n",
    "nuevo_dataset['loudness_category'] = nuevo_dataset['loudness'].apply(asignar_categoria)\n",
    "\n",
    "# Mostrar el DataFrame con la nueva columna de categorías\n",
    "nuevo_dataset.head()"
   ]
  },
  {
   "cell_type": "code",
   "execution_count": 11,
   "id": "3c6eb7ed",
   "metadata": {},
   "outputs": [
    {
     "data": {
      "text/html": [
       "<div>\n",
       "<style scoped>\n",
       "    .dataframe tbody tr th:only-of-type {\n",
       "        vertical-align: middle;\n",
       "    }\n",
       "\n",
       "    .dataframe tbody tr th {\n",
       "        vertical-align: top;\n",
       "    }\n",
       "\n",
       "    .dataframe thead th {\n",
       "        text-align: right;\n",
       "    }\n",
       "</style>\n",
       "<table border=\"1\" class=\"dataframe\">\n",
       "  <thead>\n",
       "    <tr style=\"text-align: right;\">\n",
       "      <th></th>\n",
       "      <th>valence</th>\n",
       "      <th>duration_ms</th>\n",
       "      <th>danceability</th>\n",
       "      <th>energy</th>\n",
       "      <th>loudness</th>\n",
       "      <th>speechiness</th>\n",
       "      <th>acousticness</th>\n",
       "      <th>instrumentalness</th>\n",
       "    </tr>\n",
       "  </thead>\n",
       "  <tbody>\n",
       "    <tr>\n",
       "      <th>count</th>\n",
       "      <td>47.000000</td>\n",
       "      <td>47.000000</td>\n",
       "      <td>47.000000</td>\n",
       "      <td>47.000000</td>\n",
       "      <td>47.000000</td>\n",
       "      <td>47.000000</td>\n",
       "      <td>47.000000</td>\n",
       "      <td>47.000000</td>\n",
       "    </tr>\n",
       "    <tr>\n",
       "      <th>mean</th>\n",
       "      <td>56.171872</td>\n",
       "      <td>188520.212812</td>\n",
       "      <td>71.696997</td>\n",
       "      <td>65.698047</td>\n",
       "      <td>-6.381323</td>\n",
       "      <td>10.607129</td>\n",
       "      <td>29.667719</td>\n",
       "      <td>1.543141</td>\n",
       "    </tr>\n",
       "    <tr>\n",
       "      <th>std</th>\n",
       "      <td>1.414849</td>\n",
       "      <td>3054.605930</td>\n",
       "      <td>1.049243</td>\n",
       "      <td>0.697863</td>\n",
       "      <td>0.135403</td>\n",
       "      <td>0.806387</td>\n",
       "      <td>1.076274</td>\n",
       "      <td>0.245316</td>\n",
       "    </tr>\n",
       "    <tr>\n",
       "      <th>min</th>\n",
       "      <td>52.574603</td>\n",
       "      <td>182663.459701</td>\n",
       "      <td>68.475068</td>\n",
       "      <td>64.419178</td>\n",
       "      <td>-6.607803</td>\n",
       "      <td>9.009863</td>\n",
       "      <td>26.102769</td>\n",
       "      <td>1.068133</td>\n",
       "    </tr>\n",
       "    <tr>\n",
       "      <th>25%</th>\n",
       "      <td>55.625315</td>\n",
       "      <td>185902.865753</td>\n",
       "      <td>71.534384</td>\n",
       "      <td>65.149315</td>\n",
       "      <td>-6.476025</td>\n",
       "      <td>10.105425</td>\n",
       "      <td>29.025229</td>\n",
       "      <td>1.354691</td>\n",
       "    </tr>\n",
       "    <tr>\n",
       "      <th>50%</th>\n",
       "      <td>56.409068</td>\n",
       "      <td>188358.901370</td>\n",
       "      <td>71.841644</td>\n",
       "      <td>65.700548</td>\n",
       "      <td>-6.384866</td>\n",
       "      <td>10.549973</td>\n",
       "      <td>29.692932</td>\n",
       "      <td>1.504533</td>\n",
       "    </tr>\n",
       "    <tr>\n",
       "      <th>75%</th>\n",
       "      <td>56.996046</td>\n",
       "      <td>190497.967123</td>\n",
       "      <td>72.315479</td>\n",
       "      <td>66.184370</td>\n",
       "      <td>-6.257134</td>\n",
       "      <td>10.993499</td>\n",
       "      <td>30.310771</td>\n",
       "      <td>1.686121</td>\n",
       "    </tr>\n",
       "    <tr>\n",
       "      <th>max</th>\n",
       "      <td>59.227808</td>\n",
       "      <td>194793.090411</td>\n",
       "      <td>73.372603</td>\n",
       "      <td>67.375068</td>\n",
       "      <td>-6.026937</td>\n",
       "      <td>12.415973</td>\n",
       "      <td>31.558211</td>\n",
       "      <td>2.230880</td>\n",
       "    </tr>\n",
       "  </tbody>\n",
       "</table>\n",
       "</div>"
      ],
      "text/plain": [
       "         valence    duration_ms  danceability     energy   loudness  \\\n",
       "count  47.000000      47.000000     47.000000  47.000000  47.000000   \n",
       "mean   56.171872  188520.212812     71.696997  65.698047  -6.381323   \n",
       "std     1.414849    3054.605930      1.049243   0.697863   0.135403   \n",
       "min    52.574603  182663.459701     68.475068  64.419178  -6.607803   \n",
       "25%    55.625315  185902.865753     71.534384  65.149315  -6.476025   \n",
       "50%    56.409068  188358.901370     71.841644  65.700548  -6.384866   \n",
       "75%    56.996046  190497.967123     72.315479  66.184370  -6.257134   \n",
       "max    59.227808  194793.090411     73.372603  67.375068  -6.026937   \n",
       "\n",
       "       speechiness  acousticness  instrumentalness  \n",
       "count    47.000000     47.000000         47.000000  \n",
       "mean     10.607129     29.667719          1.543141  \n",
       "std       0.806387      1.076274          0.245316  \n",
       "min       9.009863     26.102769          1.068133  \n",
       "25%      10.105425     29.025229          1.354691  \n",
       "50%      10.549973     29.692932          1.504533  \n",
       "75%      10.993499     30.310771          1.686121  \n",
       "max      12.415973     31.558211          2.230880  "
      ]
     },
     "execution_count": 11,
     "metadata": {},
     "output_type": "execute_result"
    }
   ],
   "source": [
    "nuevo_dataset.describe()"
   ]
  },
  {
   "cell_type": "code",
   "execution_count": 12,
   "id": "bd667bb6",
   "metadata": {},
   "outputs": [],
   "source": [
    "nuevo_dataset.to_csv('medias.csv', index=False)"
   ]
  },
  {
   "cell_type": "markdown",
   "id": "ba8feba3",
   "metadata": {},
   "source": [
    "# Crear dataset para la brecha de género"
   ]
  },
  {
   "cell_type": "code",
   "execution_count": 13,
   "id": "d1d28372",
   "metadata": {},
   "outputs": [],
   "source": [
    "brecha = df[['artists', 'country']]"
   ]
  },
  {
   "cell_type": "code",
   "execution_count": 17,
   "id": "017f864b",
   "metadata": {},
   "outputs": [
    {
     "name": "stderr",
     "output_type": "stream",
     "text": [
      "C:\\Users\\isa31\\AppData\\Local\\Temp/ipykernel_21772/3240492033.py:6: SettingWithCopyWarning: \n",
      "A value is trying to be set on a copy of a slice from a DataFrame.\n",
      "Try using .loc[row_indexer,col_indexer] = value instead\n",
      "\n",
      "See the caveats in the documentation: https://pandas.pydata.org/pandas-docs/stable/user_guide/indexing.html#returning-a-view-versus-a-copy\n",
      "  brecha['predicted_gender'] = brecha['artists'].astype(str).apply(lambda x: detector.get_gender(x.split()[-1]))\n"
     ]
    }
   ],
   "source": [
    "# Crear un objeto detector\n",
    "detector = gender.Detector()\n",
    "\n",
    "# Suponiendo que 'brecha' es tu DataFrame y 'artists' es la columna de nombres de artistas\n",
    "# Obtener el género basado en el nombre\n",
    "brecha['predicted_gender'] = brecha['artists'].astype(str).apply(lambda x: detector.get_gender(x.split()[-1]))\n",
    "\n",
    "# Contar géneros por país\n",
    "genero_por_pais = brecha.groupby(['country', 'predicted_gender']).size().unstack().fillna(0)"
   ]
  },
  {
   "cell_type": "code",
   "execution_count": 18,
   "id": "bfb3a1e3",
   "metadata": {},
   "outputs": [],
   "source": [
    "brecha2 = brecha.drop_duplicates().reset_index(drop=True)"
   ]
  },
  {
   "cell_type": "code",
   "execution_count": 19,
   "id": "6e625013",
   "metadata": {},
   "outputs": [],
   "source": [
    "brecha2['gender_count'] = brecha2.groupby(['country', 'predicted_gender'])['country'].transform('count')"
   ]
  },
  {
   "cell_type": "code",
   "execution_count": 20,
   "id": "78a82ec7",
   "metadata": {},
   "outputs": [],
   "source": [
    "brecha3 = brecha2.drop('artists', axis=1).drop_duplicates().reset_index(drop=True)"
   ]
  },
  {
   "cell_type": "code",
   "execution_count": 21,
   "id": "83ad4fe8",
   "metadata": {},
   "outputs": [],
   "source": [
    "pivot_table = pd.pivot_table(brecha3, values='gender_count', index='country', columns='predicted_gender', fill_value=0)\n",
    "pivot_table.reset_index(inplace=True)"
   ]
  },
  {
   "cell_type": "code",
   "execution_count": 33,
   "id": "99edebb2",
   "metadata": {},
   "outputs": [],
   "source": [
    "pivot_table.to_csv('brecha_final.csv', index=False)"
   ]
  },
  {
   "cell_type": "markdown",
   "id": "484c009c",
   "metadata": {},
   "source": [
    "# Crear dataset géneros musicales"
   ]
  },
  {
   "cell_type": "code",
   "execution_count": 25,
   "id": "7b02289e",
   "metadata": {},
   "outputs": [
    {
     "name": "stdout",
     "output_type": "stream",
     "text": [
      "         Género   Octubre  Noviembre  Diciembre\n",
      "0     breakbeat  0.209377   0.205450   0.219178\n",
      "1   world-music  0.084142   0.037605   0.036530\n",
      "2        pagode  0.000000   0.003669   0.000000\n",
      "3         sleep  0.043049   0.030267   0.036530\n",
      "4        brazil  0.093926   0.120152   0.063927\n",
      "..          ...       ...        ...        ...\n",
      "77       techno  0.720100   0.938282   1.022831\n",
      "78      spanish  0.207420   0.198112   0.210046\n",
      "79        chill  0.849249   0.797036   0.557078\n",
      "80       j-idol  0.334612   0.394390   0.401826\n",
      "81     children  0.311130   0.422823   0.356164\n",
      "\n",
      "[82 rows x 4 columns]\n"
     ]
    },
    {
     "name": "stderr",
     "output_type": "stream",
     "text": [
      "C:\\Users\\isa31\\AppData\\Local\\Temp/ipykernel_21772/1002795380.py:2: SettingWithCopyWarning: \n",
      "A value is trying to be set on a copy of a slice from a DataFrame.\n",
      "Try using .loc[row_indexer,col_indexer] = value instead\n",
      "\n",
      "See the caveats in the documentation: https://pandas.pydata.org/pandas-docs/stable/user_guide/indexing.html#returning-a-view-versus-a-copy\n",
      "  genres['snapshot_date'] = pd.to_datetime(genres['snapshot_date'])\n"
     ]
    }
   ],
   "source": [
    "genres = df[['genre', 'snapshot_date']]\n",
    "genres['snapshot_date'] = pd.to_datetime(genres['snapshot_date'])\n",
    "\n",
    "octubre = genres[genres['snapshot_date'].dt.month == 10]\n",
    "noviembre = genres[genres['snapshot_date'].dt.month == 11]\n",
    "diciembre = genres[genres['snapshot_date'].dt.month == 12]\n",
    "\n",
    "conteos_octubre = octubre['genre'].value_counts(normalize=True) * 100\n",
    "conteos_noviembre = noviembre['genre'].value_counts(normalize=True) * 100\n",
    "conteos_diciembre = diciembre['genre'].value_counts(normalize=True) * 100\n",
    "\n",
    "todos_los_generos = list(set(conteos_octubre.index) | set(conteos_noviembre.index) | set(conteos_diciembre.index))\n",
    "resultados = pd.DataFrame({\n",
    "    'Género': todos_los_generos,\n",
    "    'Octubre': conteos_octubre.reindex(todos_los_generos, fill_value=0).values,\n",
    "    'Noviembre': conteos_noviembre.reindex(todos_los_generos, fill_value=0).values,\n",
    "    'Diciembre': conteos_diciembre.reindex(todos_los_generos, fill_value=0).values\n",
    "})\n",
    "\n",
    "print(resultados)"
   ]
  },
  {
   "cell_type": "code",
   "execution_count": 174,
   "id": "ef62d5d3",
   "metadata": {},
   "outputs": [],
   "source": [
    "resultados.to_csv('genres_per_month.csv', index = False)"
   ]
  },
  {
   "cell_type": "markdown",
   "id": "977fa8ec",
   "metadata": {},
   "source": [
    "# Crear dataset is_explicit"
   ]
  },
  {
   "cell_type": "code",
   "execution_count": 162,
   "id": "ebbafb23",
   "metadata": {},
   "outputs": [
    {
     "data": {
      "text/plain": [
       "False    62.842597\n",
       "True     37.157403\n",
       "Name: is_explicit, dtype: float64"
      ]
     },
     "execution_count": 162,
     "metadata": {},
     "output_type": "execute_result"
    }
   ],
   "source": [
    "explicito = df[['is_explicit']]\n",
    "porcentaje_explicito = explicito['is_explicit'].value_counts(normalize=True) * 100\n",
    "porcentaje_explicito"
   ]
  },
  {
   "cell_type": "markdown",
   "id": "5e1abca0",
   "metadata": {},
   "source": [
    "# Crear dataset top 5 en todo el mundo"
   ]
  },
  {
   "cell_type": "code",
   "execution_count": 35,
   "id": "85868249",
   "metadata": {},
   "outputs": [],
   "source": [
    "top5global = df[['artists']]\n",
    "\n",
    "top5global = top5global.assign(artists=top5global['artists'].str.split(',')).explode('artists')\n",
    "top5global.reset_index(drop=True, inplace=True)\n",
    "\n",
    "top5global['artists'] = top5global['artists'].str.strip()\n",
    "top5global['artist_count'] = top5global['artists'].map(top5global['artists'].value_counts())\n",
    "top5global = top5global.sort_values(by='artist_count', ascending=False).drop_duplicates()"
   ]
  },
  {
   "cell_type": "code",
   "execution_count": 49,
   "id": "4de308c5",
   "metadata": {},
   "outputs": [
    {
     "data": {
      "text/html": [
       "<div>\n",
       "<style scoped>\n",
       "    .dataframe tbody tr th:only-of-type {\n",
       "        vertical-align: middle;\n",
       "    }\n",
       "\n",
       "    .dataframe tbody tr th {\n",
       "        vertical-align: top;\n",
       "    }\n",
       "\n",
       "    .dataframe thead th {\n",
       "        text-align: right;\n",
       "    }\n",
       "</style>\n",
       "<table border=\"1\" class=\"dataframe\">\n",
       "  <thead>\n",
       "    <tr style=\"text-align: right;\">\n",
       "      <th></th>\n",
       "      <th>artists</th>\n",
       "      <th>artist_count</th>\n",
       "    </tr>\n",
       "  </thead>\n",
       "  <tbody>\n",
       "    <tr>\n",
       "      <th>153259</th>\n",
       "      <td>Bad Bunny</td>\n",
       "      <td>9823.0</td>\n",
       "    </tr>\n",
       "    <tr>\n",
       "      <th>178416</th>\n",
       "      <td>Taylor Swift</td>\n",
       "      <td>5528.0</td>\n",
       "    </tr>\n",
       "    <tr>\n",
       "      <th>217505</th>\n",
       "      <td>Feid</td>\n",
       "      <td>4518.0</td>\n",
       "    </tr>\n",
       "    <tr>\n",
       "      <th>47647</th>\n",
       "      <td>Jung Kook</td>\n",
       "      <td>4234.0</td>\n",
       "    </tr>\n",
       "    <tr>\n",
       "      <th>92552</th>\n",
       "      <td>Peso Pluma</td>\n",
       "      <td>3037.0</td>\n",
       "    </tr>\n",
       "  </tbody>\n",
       "</table>\n",
       "</div>"
      ],
      "text/plain": [
       "             artists  artist_count\n",
       "153259     Bad Bunny        9823.0\n",
       "178416  Taylor Swift        5528.0\n",
       "217505          Feid        4518.0\n",
       "47647      Jung Kook        4234.0\n",
       "92552     Peso Pluma        3037.0"
      ]
     },
     "execution_count": 49,
     "metadata": {},
     "output_type": "execute_result"
    }
   ],
   "source": [
    "top5global.head()"
   ]
  },
  {
   "cell_type": "code",
   "execution_count": 50,
   "id": "ce713635",
   "metadata": {},
   "outputs": [],
   "source": [
    "top5global.to_csv('top5global_total.csv', index=False)"
   ]
  },
  {
   "cell_type": "markdown",
   "id": "25ac3cf5",
   "metadata": {},
   "source": [
    "# Crear dataset Top 5 en una semana"
   ]
  },
  {
   "cell_type": "code",
   "execution_count": 26,
   "id": "b6f7a1d1",
   "metadata": {},
   "outputs": [],
   "source": [
    "top5_date = df[['artists', 'daily_rank', 'snapshot_date', 'country']]\n",
    "top5_date_filtered = top5_date[(top5_date['daily_rank'] >= 1) & (top5_date['daily_rank'] <= 5)]\n",
    "top5_date_filtered = top5_date_filtered[(top5_date_filtered['snapshot_date'] >= '2023-11-26') & (top5_date_filtered['snapshot_date'] <= '2023-12-03')]"
   ]
  },
  {
   "cell_type": "code",
   "execution_count": 27,
   "id": "1ad632c0",
   "metadata": {},
   "outputs": [],
   "source": [
    "pivot_table = pd.pivot_table(top5_date_filtered, values='daily_rank', index=['artists', 'country'], columns='snapshot_date', fill_value=None)\n",
    "pivot_table.reset_index(inplace=True)"
   ]
  },
  {
   "cell_type": "code",
   "execution_count": 81,
   "id": "7d13a324",
   "metadata": {},
   "outputs": [],
   "source": [
    "pivot_table = pd.merge(pivot_table, regions2, on = 'country', how='left')\n",
    "pivot_table.drop('country', axis=1, inplace=True)"
   ]
  },
  {
   "cell_type": "code",
   "execution_count": 83,
   "id": "68bfa34b",
   "metadata": {},
   "outputs": [
    {
     "data": {
      "text/html": [
       "<div>\n",
       "<style scoped>\n",
       "    .dataframe tbody tr th:only-of-type {\n",
       "        vertical-align: middle;\n",
       "    }\n",
       "\n",
       "    .dataframe tbody tr th {\n",
       "        vertical-align: top;\n",
       "    }\n",
       "\n",
       "    .dataframe thead th {\n",
       "        text-align: right;\n",
       "    }\n",
       "</style>\n",
       "<table border=\"1\" class=\"dataframe\">\n",
       "  <thead>\n",
       "    <tr style=\"text-align: right;\">\n",
       "      <th></th>\n",
       "      <th>artists</th>\n",
       "      <th>2023-11-26</th>\n",
       "      <th>2023-11-27</th>\n",
       "      <th>2023-11-28</th>\n",
       "      <th>2023-11-29</th>\n",
       "      <th>2023-11-30</th>\n",
       "      <th>2023-12-01</th>\n",
       "      <th>2023-12-02</th>\n",
       "      <th>2023-12-03</th>\n",
       "      <th>Country name</th>\n",
       "    </tr>\n",
       "  </thead>\n",
       "  <tbody>\n",
       "    <tr>\n",
       "      <th>0</th>\n",
       "      <td>ABREU</td>\n",
       "      <td>3.0</td>\n",
       "      <td>4.0</td>\n",
       "      <td>4.0</td>\n",
       "      <td>4.0</td>\n",
       "      <td>5.0</td>\n",
       "      <td>NaN</td>\n",
       "      <td>NaN</td>\n",
       "      <td>NaN</td>\n",
       "      <td>Finland</td>\n",
       "    </tr>\n",
       "    <tr>\n",
       "      <th>1</th>\n",
       "      <td>AIGEL</td>\n",
       "      <td>2.0</td>\n",
       "      <td>1.0</td>\n",
       "      <td>1.0</td>\n",
       "      <td>1.0</td>\n",
       "      <td>1.0</td>\n",
       "      <td>1.0</td>\n",
       "      <td>1.0</td>\n",
       "      <td>1.0</td>\n",
       "      <td>Belarus</td>\n",
       "    </tr>\n",
       "    <tr>\n",
       "      <th>2</th>\n",
       "      <td>AIGEL</td>\n",
       "      <td>2.0</td>\n",
       "      <td>1.0</td>\n",
       "      <td>1.0</td>\n",
       "      <td>1.0</td>\n",
       "      <td>2.0</td>\n",
       "      <td>1.0</td>\n",
       "      <td>1.0</td>\n",
       "      <td>1.0</td>\n",
       "      <td>Kazakhstan</td>\n",
       "    </tr>\n",
       "    <tr>\n",
       "      <th>3</th>\n",
       "      <td>AIGEL</td>\n",
       "      <td>5.0</td>\n",
       "      <td>2.0</td>\n",
       "      <td>2.0</td>\n",
       "      <td>1.0</td>\n",
       "      <td>2.0</td>\n",
       "      <td>2.0</td>\n",
       "      <td>1.0</td>\n",
       "      <td>1.0</td>\n",
       "      <td>Ukraine</td>\n",
       "    </tr>\n",
       "    <tr>\n",
       "      <th>4</th>\n",
       "      <td>AUR</td>\n",
       "      <td>1.0</td>\n",
       "      <td>1.0</td>\n",
       "      <td>1.0</td>\n",
       "      <td>1.0</td>\n",
       "      <td>1.0</td>\n",
       "      <td>1.0</td>\n",
       "      <td>1.0</td>\n",
       "      <td>1.0</td>\n",
       "      <td>India</td>\n",
       "    </tr>\n",
       "    <tr>\n",
       "      <th>...</th>\n",
       "      <td>...</td>\n",
       "      <td>...</td>\n",
       "      <td>...</td>\n",
       "      <td>...</td>\n",
       "      <td>...</td>\n",
       "      <td>...</td>\n",
       "      <td>...</td>\n",
       "      <td>...</td>\n",
       "      <td>...</td>\n",
       "      <td>...</td>\n",
       "    </tr>\n",
       "    <tr>\n",
       "      <th>537</th>\n",
       "      <td>יגל אושרי</td>\n",
       "      <td>2.0</td>\n",
       "      <td>2.0</td>\n",
       "      <td>2.0</td>\n",
       "      <td>2.0</td>\n",
       "      <td>2.0</td>\n",
       "      <td>2.0</td>\n",
       "      <td>2.0</td>\n",
       "      <td>2.0</td>\n",
       "      <td>Israel</td>\n",
       "    </tr>\n",
       "    <tr>\n",
       "      <th>538</th>\n",
       "      <td>ששון איפרם שאולוב</td>\n",
       "      <td>5.0</td>\n",
       "      <td>5.0</td>\n",
       "      <td>5.0</td>\n",
       "      <td>5.0</td>\n",
       "      <td>5.0</td>\n",
       "      <td>5.0</td>\n",
       "      <td>5.0</td>\n",
       "      <td>5.0</td>\n",
       "      <td>Israel</td>\n",
       "    </tr>\n",
       "    <tr>\n",
       "      <th>539</th>\n",
       "      <td>卢卢快闭嘴</td>\n",
       "      <td>4.0</td>\n",
       "      <td>4.0</td>\n",
       "      <td>NaN</td>\n",
       "      <td>5.0</td>\n",
       "      <td>5.0</td>\n",
       "      <td>5.0</td>\n",
       "      <td>NaN</td>\n",
       "      <td>NaN</td>\n",
       "      <td>NaN</td>\n",
       "    </tr>\n",
       "    <tr>\n",
       "      <th>540</th>\n",
       "      <td>承桓</td>\n",
       "      <td>3.0</td>\n",
       "      <td>3.0</td>\n",
       "      <td>3.0</td>\n",
       "      <td>3.0</td>\n",
       "      <td>3.0</td>\n",
       "      <td>3.0</td>\n",
       "      <td>2.0</td>\n",
       "      <td>2.0</td>\n",
       "      <td>NaN</td>\n",
       "    </tr>\n",
       "    <tr>\n",
       "      <th>541</th>\n",
       "      <td>陳華</td>\n",
       "      <td>5.0</td>\n",
       "      <td>5.0</td>\n",
       "      <td>5.0</td>\n",
       "      <td>NaN</td>\n",
       "      <td>NaN</td>\n",
       "      <td>NaN</td>\n",
       "      <td>5.0</td>\n",
       "      <td>5.0</td>\n",
       "      <td>NaN</td>\n",
       "    </tr>\n",
       "  </tbody>\n",
       "</table>\n",
       "<p>542 rows × 10 columns</p>\n",
       "</div>"
      ],
      "text/plain": [
       "               artists  2023-11-26  2023-11-27  2023-11-28  2023-11-29  \\\n",
       "0                ABREU         3.0         4.0         4.0         4.0   \n",
       "1                AIGEL         2.0         1.0         1.0         1.0   \n",
       "2                AIGEL         2.0         1.0         1.0         1.0   \n",
       "3                AIGEL         5.0         2.0         2.0         1.0   \n",
       "4                  AUR         1.0         1.0         1.0         1.0   \n",
       "..                 ...         ...         ...         ...         ...   \n",
       "537          יגל אושרי         2.0         2.0         2.0         2.0   \n",
       "538  ששון איפרם שאולוב         5.0         5.0         5.0         5.0   \n",
       "539              卢卢快闭嘴         4.0         4.0         NaN         5.0   \n",
       "540                 承桓         3.0         3.0         3.0         3.0   \n",
       "541                 陳華         5.0         5.0         5.0         NaN   \n",
       "\n",
       "     2023-11-30  2023-12-01  2023-12-02  2023-12-03 Country name  \n",
       "0           5.0         NaN         NaN         NaN      Finland  \n",
       "1           1.0         1.0         1.0         1.0      Belarus  \n",
       "2           2.0         1.0         1.0         1.0   Kazakhstan  \n",
       "3           2.0         2.0         1.0         1.0      Ukraine  \n",
       "4           1.0         1.0         1.0         1.0        India  \n",
       "..          ...         ...         ...         ...          ...  \n",
       "537         2.0         2.0         2.0         2.0       Israel  \n",
       "538         5.0         5.0         5.0         5.0       Israel  \n",
       "539         5.0         5.0         NaN         NaN          NaN  \n",
       "540         3.0         3.0         2.0         2.0          NaN  \n",
       "541         NaN         NaN         5.0         5.0          NaN  \n",
       "\n",
       "[542 rows x 10 columns]"
      ]
     },
     "execution_count": 83,
     "metadata": {},
     "output_type": "execute_result"
    }
   ],
   "source": [
    "pivot_table"
   ]
  },
  {
   "cell_type": "code",
   "execution_count": 84,
   "id": "e264a9e7",
   "metadata": {},
   "outputs": [],
   "source": [
    "pivot_table.to_csv('ranking.csv', index = False)"
   ]
  },
  {
   "cell_type": "markdown",
   "id": "a4520e75",
   "metadata": {},
   "source": [
    "# Canibalizacion de la Taylor al bad bunny"
   ]
  },
  {
   "cell_type": "code",
   "execution_count": 28,
   "id": "fae8df52",
   "metadata": {},
   "outputs": [],
   "source": [
    "canibal = df[['artists', 'daily_rank', 'snapshot_date', 'country']]\n",
    "canibal_filtrado = canibal[canibal['artists'].isin(['Bad Bunny', 'Taylor Swift'])]"
   ]
  },
  {
   "cell_type": "code",
   "execution_count": 29,
   "id": "29d2f266",
   "metadata": {},
   "outputs": [],
   "source": [
    "artistas_interesantes = ['Bad Bunny', 'Taylor Swift']\n",
    "\n",
    "conteo_artistas_por_pais_fecha = canibal_filtrado.groupby(['country', 'snapshot_date'])['artists'].nunique()\n",
    "paises_con_ambos_artistas = conteo_artistas_por_pais_fecha[conteo_artistas_por_pais_fecha == len(artistas_interesantes)].index\n",
    "\n",
    "# Filtrar el DataFrame original con los países que cumplen la condición\n",
    "canibal_final = canibal_filtrado.set_index(['country', 'snapshot_date']).loc[paises_con_ambos_artistas].reset_index()\n",
    "canibal_final = canibal_final.sort_values(by=['country', 'snapshot_date', 'daily_rank'], ascending=True).drop_duplicates(subset=['country', 'snapshot_date', 'artists'], keep='first')"
   ]
  },
  {
   "cell_type": "code",
   "execution_count": 30,
   "id": "ae90f3e2",
   "metadata": {},
   "outputs": [],
   "source": [
    "pivot_table = pd.pivot_table(canibal_final, values='daily_rank', index=['artists', 'country'], columns='snapshot_date', fill_value=None)\n",
    "pivot_table.reset_index(inplace=True)\n",
    "\n",
    "pivot_table = pd.merge(pivot_table, regions2, on = 'country', how='left')\n",
    "pivot_table.drop('country', axis=1, inplace=True)"
   ]
  },
  {
   "cell_type": "code",
   "execution_count": 129,
   "id": "7a55b45f",
   "metadata": {},
   "outputs": [],
   "source": [
    "pivot_table.to_csv('canibalización.csv', index=False)"
   ]
  },
  {
   "cell_type": "markdown",
   "id": "9915e7b8",
   "metadata": {},
   "source": [
    "# Conteo mas Top 10 con canciones unicas"
   ]
  },
  {
   "cell_type": "code",
   "execution_count": 32,
   "id": "30908149",
   "metadata": {},
   "outputs": [],
   "source": [
    "import pandas as pd\n",
    "\n",
    "dff = df[['artists', 'name', 'album_name', 'snapshot_date', 'country', 'daily_rank']]\n",
    "\n",
    "# Filtrar los datos para las posiciones del 1 al 10 y canciones distintas\n",
    "df_top10_unique = dff[dff['daily_rank'].between(1, 10)]\n",
    "\n",
    "# Agrupar por artistas, países y fecha, y contar las ocurrencias\n",
    "result = df_top10_unique.groupby(['artists', 'country', 'snapshot_date']).agg({'name': 'nunique', 'daily_rank': 'count'}).reset_index()\n",
    "result = result.rename(columns={'name': 'count_unique_songs', 'daily_rank': 'count_rankings'})\n",
    "\n",
    "# Filtrar los resultados donde count sea mayor a 1 (ocurrió en el mismo día con canciones distintas)\n",
    "result = result[(result['count_rankings'] > 1) & (result['count_unique_songs'] == 10)]\n",
    "\n",
    "result = result.sort_values(by='count_rankings', ascending=False)\n",
    "\n",
    "# Crear la nueva columna \"count_total\"\n",
    "result['count_total'] = result.groupby('artists')['count_rankings'].transform('sum')\n",
    "\n",
    "# Mostrar el DataFrame final\n",
    "result = result.sort_values(by='count_total', ascending=False)\n",
    "result.drop(['count_rankings', 'count_unique_songs'], axis=1, inplace=True)\n",
    "result.drop_duplicates(inplace=True)\n",
    "result.to_csv('top10_monopolizado.csv', index=False)\n"
   ]
  },
  {
   "cell_type": "code",
   "execution_count": null,
   "id": "1e6c042e",
   "metadata": {},
   "outputs": [],
   "source": []
  }
 ],
 "metadata": {
  "kernelspec": {
   "display_name": "Python 3 (ipykernel)",
   "language": "python",
   "name": "python3"
  },
  "language_info": {
   "codemirror_mode": {
    "name": "ipython",
    "version": 3
   },
   "file_extension": ".py",
   "mimetype": "text/x-python",
   "name": "python",
   "nbconvert_exporter": "python",
   "pygments_lexer": "ipython3",
   "version": "3.8.12"
  }
 },
 "nbformat": 4,
 "nbformat_minor": 5
}
